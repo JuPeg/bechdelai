{
 "cells": [
  {
   "cell_type": "markdown",
   "id": "ec9fb68d-428b-45dd-9882-f2ab6ceece65",
   "metadata": {},
   "source": [
    "# Retrieve scripts data"
   ]
  },
  {
   "cell_type": "code",
   "execution_count": 1,
   "id": "f9c9887f-5fe7-4197-a56c-e61c0c544403",
   "metadata": {},
   "outputs": [],
   "source": [
    "%load_ext autoreload\n",
    "%autoreload 2"
   ]
  },
  {
   "cell_type": "markdown",
   "id": "1b100569-50bb-44be-9879-05ed2f51a6ea",
   "metadata": {},
   "source": [
    "## Import packages"
   ]
  },
  {
   "cell_type": "code",
   "execution_count": 2,
   "id": "f4dbeb32-4dc5-40f4-8706-dc56383e876f",
   "metadata": {},
   "outputs": [],
   "source": [
    "from bechdelai.data.imsdb import get_all_scripts, get_script_from_url"
   ]
  },
  {
   "cell_type": "markdown",
   "id": "338719ad-3353-4543-9eb6-3d5841445420",
   "metadata": {},
   "source": [
    "## Get data"
   ]
  },
  {
   "cell_type": "code",
   "execution_count": 3,
   "id": "68bfd95d-23f5-4a04-a4cd-c4337456ece1",
   "metadata": {},
   "outputs": [
    {
     "name": "stdout",
     "output_type": "stream",
     "text": [
      "Wall time: 697 ms\n"
     ]
    }
   ],
   "source": [
    "%%time\n",
    "scripts = get_all_scripts()"
   ]
  },
  {
   "cell_type": "code",
   "execution_count": 4,
   "id": "726c56d6-45b2-4c77-84e0-b360646bf562",
   "metadata": {},
   "outputs": [
    {
     "data": {
      "text/html": [
       "<div>\n",
       "<style scoped>\n",
       "    .dataframe tbody tr th:only-of-type {\n",
       "        vertical-align: middle;\n",
       "    }\n",
       "\n",
       "    .dataframe tbody tr th {\n",
       "        vertical-align: top;\n",
       "    }\n",
       "\n",
       "    .dataframe thead th {\n",
       "        text-align: right;\n",
       "    }\n",
       "</style>\n",
       "<table border=\"1\" class=\"dataframe\">\n",
       "  <thead>\n",
       "    <tr style=\"text-align: right;\">\n",
       "      <th></th>\n",
       "      <th>title</th>\n",
       "      <th>url</th>\n",
       "    </tr>\n",
       "  </thead>\n",
       "  <tbody>\n",
       "    <tr>\n",
       "      <th>0</th>\n",
       "      <td>10 Things I Hate About You</td>\n",
       "      <td>https://imsdb.com/scripts/10-Things-I-Hate-Abo...</td>\n",
       "    </tr>\n",
       "    <tr>\n",
       "      <th>1</th>\n",
       "      <td>12</td>\n",
       "      <td>https://imsdb.com/scripts/12.html</td>\n",
       "    </tr>\n",
       "    <tr>\n",
       "      <th>2</th>\n",
       "      <td>12 and Holding</td>\n",
       "      <td>https://imsdb.com/scripts/12-and-Holding.html</td>\n",
       "    </tr>\n",
       "    <tr>\n",
       "      <th>3</th>\n",
       "      <td>12 Monkeys</td>\n",
       "      <td>https://imsdb.com/scripts/12-Monkeys.html</td>\n",
       "    </tr>\n",
       "    <tr>\n",
       "      <th>4</th>\n",
       "      <td>12 Years a Slave</td>\n",
       "      <td>https://imsdb.com/scripts/12-Years-a-Slave.html</td>\n",
       "    </tr>\n",
       "  </tbody>\n",
       "</table>\n",
       "</div>"
      ],
      "text/plain": [
       "                        title  \\\n",
       "0  10 Things I Hate About You   \n",
       "1                          12   \n",
       "2              12 and Holding   \n",
       "3                  12 Monkeys   \n",
       "4            12 Years a Slave   \n",
       "\n",
       "                                                 url  \n",
       "0  https://imsdb.com/scripts/10-Things-I-Hate-Abo...  \n",
       "1                  https://imsdb.com/scripts/12.html  \n",
       "2      https://imsdb.com/scripts/12-and-Holding.html  \n",
       "3          https://imsdb.com/scripts/12-Monkeys.html  \n",
       "4    https://imsdb.com/scripts/12-Years-a-Slave.html  "
      ]
     },
     "execution_count": 4,
     "metadata": {},
     "output_type": "execute_result"
    }
   ],
   "source": [
    "scripts.head()"
   ]
  },
  {
   "cell_type": "code",
   "execution_count": 7,
   "id": "76e32724-3da8-43e3-8cd7-ca0ae4eaaf38",
   "metadata": {},
   "outputs": [],
   "source": [
    "url = 'https://imsdb.com/scripts/10-Things-I-Hate-About-You.html'\n",
    "script = get_script_from_url(url)"
   ]
  },
  {
   "cell_type": "code",
   "execution_count": 9,
   "id": "e71886ea-c824-4cac-a081-e150e3265459",
   "metadata": {},
   "outputs": [
    {
     "data": {
      "text/plain": [
       "['\\r',\n",
       " '                               TEN THINGS I HATE ABOUT YOU\\r',\n",
       " '          \\r',\n",
       " '                written by Karen McCullah Lutz & Kirsten Smith\\r',\n",
       " '          \\r',\n",
       " '              based on \\'Taming of the Shrew\" by William Shakespeare\\r',\n",
       " '          \\r',\n",
       " '          Revision November 12, 1997\\r',\n",
       " '          \\r',\n",
       " '          \\r',\n",
       " '          PADUA HIGH SCHOOL - DAY\\r',\n",
       " '          \\r',\n",
       " '          Welcome to Padua High School,, your typical urban-suburban \\r',\n",
       " '          high school in Portland, Oregon.  Smarties, Skids, Preppies, \\r',\n",
       " '          Granolas. Loners, Lovers, the In and the Out Crowd rub sleep \\r',\n",
       " '          out of their eyes and head for the main building.\\r',\n",
       " '          \\r',\n",
       " '          PADUA HIGH PARKING LOT - DAY\\r',\n",
       " '          \\r',\n",
       " '          KAT STRATFORD, eighteen, pretty -- but trying hard not to be \\r']"
      ]
     },
     "execution_count": 9,
     "metadata": {},
     "output_type": "execute_result"
    }
   ],
   "source": [
    "script[:20]"
   ]
  },
  {
   "cell_type": "code",
   "execution_count": null,
   "id": "26e6e9d7-d843-4efa-ae49-e2936fc8c281",
   "metadata": {},
   "outputs": [],
   "source": []
  }
 ],
 "metadata": {
  "kernelspec": {
   "display_name": "bechdelai",
   "language": "python",
   "name": "bechdelai"
  },
  "language_info": {
   "codemirror_mode": {
    "name": "ipython",
    "version": 3
   },
   "file_extension": ".py",
   "mimetype": "text/x-python",
   "name": "python",
   "nbconvert_exporter": "python",
   "pygments_lexer": "ipython3",
   "version": "3.9.10"
  }
 },
 "nbformat": 4,
 "nbformat_minor": 5
}
