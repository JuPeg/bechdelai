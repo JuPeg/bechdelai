{
 "cells": [
  {
   "cell_type": "markdown",
   "id": "053b5437-1691-4079-9c19-af83d8ee8097",
   "metadata": {},
   "source": [
    "# Get Opensubtitles data"
   ]
  },
  {
   "cell_type": "code",
   "execution_count": 1,
   "id": "21933d1c-e564-46f4-8bac-885f9ef625fe",
   "metadata": {},
   "outputs": [],
   "source": [
    "%load_ext autoreload\n",
    "%autoreload 2"
   ]
  },
  {
   "cell_type": "markdown",
   "id": "07afdef7-23b8-4c47-98a7-623755610486",
   "metadata": {},
   "source": [
    "## Imports"
   ]
  },
  {
   "cell_type": "code",
   "execution_count": 2,
   "id": "d934f9d3-12de-4582-8e7f-fd81f0b8dc91",
   "metadata": {},
   "outputs": [],
   "source": [
    "from bechdelai.data.opensubtitles import search\n",
    "from bechdelai.data.opensubtitles import get_subtitle_link\n",
    "from bechdelai.data.opensubtitles import download_subtitle_from_url\n",
    "from bechdelai.data.opensubtitles import get_subtitles_from_movie"
   ]
  },
  {
   "cell_type": "markdown",
   "id": "a1e70756-bcb2-402a-966f-3880b4eb4e61",
   "metadata": {},
   "source": [
    "## Search"
   ]
  },
  {
   "cell_type": "code",
   "execution_count": 3,
   "id": "43245604-d140-41fa-9c0e-79171b438b22",
   "metadata": {},
   "outputs": [],
   "source": [
    "movie_name = \"Joker\"\n",
    "language_code = \"fre\""
   ]
  },
  {
   "cell_type": "code",
   "execution_count": 4,
   "id": "2e376b38-ff46-4466-8755-6dd68f192403",
   "metadata": {},
   "outputs": [],
   "source": [
    "search_url = search(movie_name, language_code)"
   ]
  },
  {
   "cell_type": "code",
   "execution_count": 5,
   "id": "a2939ff1-4f92-4501-b06d-83252739e922",
   "metadata": {},
   "outputs": [
    {
     "data": {
      "text/plain": [
       "{'Batman Beyond: Return of the Joker (2000)': 'https://www.opensubtitles.org/en/search/sublanguageid-fre/idmovie-6066',\n",
       " 'Joker (2019)': 'https://www.opensubtitles.org/en/search/sublanguageid-fre/idmovie-742510',\n",
       " '\"Batman: The Animated Series\" Joker\\'s Wild (1992)': 'https://www.opensubtitles.org/en/search/sublanguageid-fre/idmovie-119766',\n",
       " '\"Batman: The Animated Series\" Christmas with the Joker (1992)': 'https://www.opensubtitles.org/en/search/sublanguageid-fre/idmovie-119558',\n",
       " '\"Batman: The Animated Series\" Joker\\'s Favor (1992)': 'https://www.opensubtitles.org/en/search/sublanguageid-fre/idmovie-116434',\n",
       " '\"Star Trek: The Animated Series\" The Practical Joker (1974)': 'https://www.opensubtitles.org/en/search/sublanguageid-fre/idmovie-24505',\n",
       " '\"Joker Game\" OVA: Adventure of Black Cat Yoru Part 2 (2016)': 'https://www.opensubtitles.org/en/search/sublanguageid-fre/idmovie-984891',\n",
       " '\"Joker Game\" OVA: Adventure of Black Cat Yoru Part 1 (2016)': 'https://www.opensubtitles.org/en/search/sublanguageid-fre/idmovie-984890',\n",
       " '\"Batman: The Brave and the Bold\" Joker: The Vile and the Villainous! (2011)': 'https://www.opensubtitles.org/en/search/sublanguageid-fre/idmovie-110824',\n",
       " '\"Batman: The Brave and the Bold\" Emperor Joker! (2010)': 'https://www.opensubtitles.org/en/search/sublanguageid-fre/idmovie-134421',\n",
       " '\"The Avengers\" The Joker (1967)': 'https://www.opensubtitles.org/en/search/sublanguageid-fre/idmovie-113042',\n",
       " '\"Bewitched\" The Joker Is a Card (1965)': 'https://www.opensubtitles.org/en/search/sublanguageid-fre/idmovie-116814',\n",
       " '\"The New Batman Adventures\" Joker\\'s Millions (1998)': 'https://www.opensubtitles.org/en/search/sublanguageid-fre/idmovie-128916',\n",
       " 'Wild Card (2015)': 'https://www.opensubtitles.org/en/search/sublanguageid-fre/idmovie-179272',\n",
       " 'Poker Night (2014)': 'https://www.opensubtitles.org/en/search/sublanguageid-fre/idmovie-189143',\n",
       " 'Batman: The Animated Series (1992)': 'https://www.opensubtitles.org/en/search/sublanguageid-fre/idmovie-9896',\n",
       " 'Bewitched (1964)': 'https://www.opensubtitles.org/en/search/sublanguageid-fre/idmovie-39003',\n",
       " 'The Avengers (1961)': 'https://www.opensubtitles.org/en/search/sublanguageid-fre/idmovie-31745',\n",
       " 'Batman: The Brave and the Bold (2008)': 'https://www.opensubtitles.org/en/search/sublanguageid-fre/idmovie-45163',\n",
       " 'Star Trek: The Animated Series (1973)': 'https://www.opensubtitles.org/en/search/sublanguageid-fre/idmovie-21493',\n",
       " 'The Jeff Dunham Show (2009)': 'https://www.opensubtitles.org/en/search/sublanguageid-fre/idmovie-52111',\n",
       " '\"Batman: The Animated Series\" Be a Clown (1992)': 'https://www.opensubtitles.org/en/search/sublanguageid-fre/idmovie-106476',\n",
       " '\"The Jeff Dunham Show\" Episode #1.7 (2009)': 'https://www.opensubtitles.org/en/search/sublanguageid-fre/idmovie-100711',\n",
       " '\"Eromanga Sensei\" Buck Naked Mansion and the Fallen Master (2017)': 'https://www.opensubtitles.org/en/search/sublanguageid-fre/idmovie-522098',\n",
       " '\"Eromanga Sensei\" My Little Sister, and the Sealed Room (2017)': 'https://www.opensubtitles.org/en/search/sublanguageid-fre/idmovie-522096',\n",
       " '\"Eromanga Sensei\" Eromanga Sensei (2017)': 'https://www.opensubtitles.org/en/search/sublanguageid-fre/idmovie-522099',\n",
       " '\"Eromanga Sensei\" Eromanga Festival (2017)': 'https://www.opensubtitles.org/en/search/sublanguageid-fre/idmovie-538830',\n",
       " '\"Eromanga Sensei\" Class Rep with a Normie Life, and a Fearless Fairy (2017)': 'https://www.opensubtitles.org/en/search/sublanguageid-fre/idmovie-522097',\n",
       " '\"Eromanga Sensei\" Dreaming Sagiri and Summer Fireworks (2017)': 'https://www.opensubtitles.org/en/search/sublanguageid-fre/idmovie-538826',\n",
       " '\"Eromanga Sensei\" Masamune Izumi and the Nemesis of Ten Million Copies (2017)': 'https://www.opensubtitles.org/en/search/sublanguageid-fre/idmovie-532318',\n",
       " '\"Eromanga Sensei\" How the Two Met and Future Siblings (2017)': 'https://www.opensubtitles.org/en/search/sublanguageid-fre/idmovie-538829',\n",
       " '\"Eromanga Sensei\" Little Sister and the Fairy Island (2017)': 'https://www.opensubtitles.org/en/search/sublanguageid-fre/idmovie-538827',\n",
       " '\"Eromanga Sensei\" Let\\'s Plan a Light-novel with Your Little Sister (2017)': 'https://www.opensubtitles.org/en/search/sublanguageid-fre/idmovie-532317',\n",
       " '\"Eromanga Sensei\" Little Sister and the Most Interesting Novel in the World (2017)': 'https://www.opensubtitles.org/en/search/sublanguageid-fre/idmovie-538825',\n",
       " '\"Eromanga Sensei\" Masamune Izumi and the Younger Senpai (2017)': 'https://www.opensubtitles.org/en/search/sublanguageid-fre/idmovie-538828'}"
      ]
     },
     "execution_count": 5,
     "metadata": {},
     "output_type": "execute_result"
    }
   ],
   "source": [
    "search_url"
   ]
  },
  {
   "cell_type": "code",
   "execution_count": 6,
   "id": "a6c78fea-bf08-4b29-876d-c8247acb194a",
   "metadata": {},
   "outputs": [],
   "source": [
    "wanted_movie = 'Joker (2019)'"
   ]
  },
  {
   "cell_type": "code",
   "execution_count": 7,
   "id": "96eae094-7397-471e-aa21-6cad9a9fb56d",
   "metadata": {},
   "outputs": [
    {
     "data": {
      "text/plain": [
       "'https://www.opensubtitles.org/en/search/sublanguageid-fre/idmovie-742510'"
      ]
     },
     "execution_count": 7,
     "metadata": {},
     "output_type": "execute_result"
    }
   ],
   "source": [
    "search_url[wanted_movie]"
   ]
  },
  {
   "cell_type": "markdown",
   "id": "928c3f64-a67b-446b-a902-7fcb209749e8",
   "metadata": {},
   "source": [
    "## Get subtitle link"
   ]
  },
  {
   "cell_type": "code",
   "execution_count": 8,
   "id": "b6c668d5-a9e5-439c-a95b-baefb058194d",
   "metadata": {},
   "outputs": [],
   "source": [
    "subtitle_url = get_subtitle_link(search_url[wanted_movie])"
   ]
  },
  {
   "cell_type": "code",
   "execution_count": 9,
   "id": "e63d43e0-ae9f-4adc-88d1-7dbe2def6e6e",
   "metadata": {},
   "outputs": [
    {
     "data": {
      "text/plain": [
       "'https://www.opensubtitles.org/en/subtitleserve/sub/8181813'"
      ]
     },
     "execution_count": 9,
     "metadata": {},
     "output_type": "execute_result"
    }
   ],
   "source": [
    "subtitle_url"
   ]
  },
  {
   "cell_type": "markdown",
   "id": "fa5b2a18-1b25-4c50-85f5-04dd8af9cc92",
   "metadata": {},
   "source": [
    "## Download subtitle from url"
   ]
  },
  {
   "cell_type": "code",
   "execution_count": 10,
   "id": "358747ac-8fa9-46a4-a610-095ef8eabe06",
   "metadata": {},
   "outputs": [],
   "source": [
    "res = download_subtitle_from_url(subtitle_url)"
   ]
  },
  {
   "cell_type": "code",
   "execution_count": 11,
   "id": "c94353d4-1fe8-4c81-8d59-706c91357d6c",
   "metadata": {},
   "outputs": [
    {
     "name": "stdout",
     "output_type": "stream",
     "text": [
      "00:10:54,175 ==> 00:10:56,969\n",
      "la ville est cernée par\n",
      "des hordes de rats.\n",
      "\n",
      "00:10:57,136 ==> 00:10:58,554\n",
      "Et pas n'importe quels rats.\n",
      "\n",
      "00:10:58,763 ==> 00:11:00,389\n",
      "Des super-rats durs à tuer.\n",
      "\n",
      "00:11:00,556 ==> 00:11:02,642\n",
      "Il ne reçoit pas mes lettres.\n",
      "\n",
      "00:11:04,102 ==> 00:11:06,270\n",
      "C'est Thomas Wayne.\n",
      "\n"
     ]
    }
   ],
   "source": [
    "for srt in res[:5]:\n",
    "    print(f\"{srt.start} ==> {srt.end}\")\n",
    "    print(srt.text)\n",
    "    print()"
   ]
  },
  {
   "cell_type": "markdown",
   "id": "e583cd08-2048-4d4b-95af-36875988a91d",
   "metadata": {},
   "source": [
    "## get subtitles from movie"
   ]
  },
  {
   "cell_type": "markdown",
   "id": "5b49eee8-c6af-42b9-9aa6-295e84f6d121",
   "metadata": {},
   "source": [
    "### Without defined index"
   ]
  },
  {
   "cell_type": "code",
   "execution_count": 12,
   "id": "50f91de3-8eac-4fa5-a200-75044e874fa8",
   "metadata": {},
   "outputs": [
    {
     "name": "stdout",
     "output_type": "stream",
     "text": [
      "Suggestion num 0: 'Batman Beyond: Return of the Joker (2000)'\n",
      "url: https://www.opensubtitles.org/en/search/sublanguageid-fre/idmovie-6066\n"
     ]
    },
    {
     "name": "stdin",
     "output_type": "stream",
     "text": [
      "Do you want to get subtitles from this movie ? n\n"
     ]
    },
    {
     "name": "stdout",
     "output_type": "stream",
     "text": [
      "\n",
      "Suggestion num 1: 'Joker (2019)'\n",
      "url: https://www.opensubtitles.org/en/search/sublanguageid-fre/idmovie-742510\n"
     ]
    },
    {
     "name": "stdin",
     "output_type": "stream",
     "text": [
      "Do you want to get subtitles from this movie ? y\n"
     ]
    },
    {
     "name": "stdout",
     "output_type": "stream",
     "text": [
      "\n",
      "Retrieve subtitles for 'Joker (2019)'\n"
     ]
    }
   ],
   "source": [
    "res = get_subtitles_from_movie(movie_name, language_code, search_result_index=None)"
   ]
  },
  {
   "cell_type": "code",
   "execution_count": 13,
   "id": "fee7fa3d-9fbf-4a86-9c07-185460db3d52",
   "metadata": {},
   "outputs": [
    {
     "name": "stdout",
     "output_type": "stream",
     "text": [
      "00:10:54,175 ==> 00:10:56,969\n",
      "la ville est cernée par\n",
      "des hordes de rats.\n",
      "\n",
      "00:10:57,136 ==> 00:10:58,554\n",
      "Et pas n'importe quels rats.\n",
      "\n",
      "00:10:58,763 ==> 00:11:00,389\n",
      "Des super-rats durs à tuer.\n",
      "\n",
      "00:11:00,556 ==> 00:11:02,642\n",
      "Il ne reçoit pas mes lettres.\n",
      "\n",
      "00:11:04,102 ==> 00:11:06,270\n",
      "C'est Thomas Wayne.\n",
      "\n"
     ]
    }
   ],
   "source": [
    "for srt in res[:5]:\n",
    "    print(f\"{srt.start} ==> {srt.end}\")\n",
    "    print(srt.text)\n",
    "    print()"
   ]
  },
  {
   "cell_type": "markdown",
   "id": "238abac4-244f-4af1-92e6-5d33b418bf90",
   "metadata": {},
   "source": [
    "### With defined index"
   ]
  },
  {
   "cell_type": "code",
   "execution_count": 14,
   "id": "1d3a3845-0b2d-40ad-9a26-8c799cd2907d",
   "metadata": {},
   "outputs": [
    {
     "name": "stdout",
     "output_type": "stream",
     "text": [
      "Retrieve subtitles for 'Joker (2019)'\n"
     ]
    }
   ],
   "source": [
    "res = get_subtitles_from_movie(movie_name, language_code, search_result_index=1)"
   ]
  },
  {
   "cell_type": "code",
   "execution_count": 15,
   "id": "621d6d2b-0d51-46e2-abb6-fcb2d7602a3f",
   "metadata": {},
   "outputs": [
    {
     "name": "stdout",
     "output_type": "stream",
     "text": [
      "00:10:54,175 ==> 00:10:56,969\n",
      "la ville est cernée par\n",
      "des hordes de rats.\n",
      "\n",
      "00:10:57,136 ==> 00:10:58,554\n",
      "Et pas n'importe quels rats.\n",
      "\n",
      "00:10:58,763 ==> 00:11:00,389\n",
      "Des super-rats durs à tuer.\n",
      "\n",
      "00:11:00,556 ==> 00:11:02,642\n",
      "Il ne reçoit pas mes lettres.\n",
      "\n",
      "00:11:04,102 ==> 00:11:06,270\n",
      "C'est Thomas Wayne.\n",
      "\n"
     ]
    }
   ],
   "source": [
    "for srt in res[:5]:\n",
    "    print(f\"{srt.start} ==> {srt.end}\")\n",
    "    print(srt.text)\n",
    "    print()"
   ]
  }
 ],
 "metadata": {
  "kernelspec": {
   "display_name": "bechdelai",
   "language": "python",
   "name": "bechdelai"
  },
  "language_info": {
   "codemirror_mode": {
    "name": "ipython",
    "version": 3
   },
   "file_extension": ".py",
   "mimetype": "text/x-python",
   "name": "python",
   "nbconvert_exporter": "python",
   "pygments_lexer": "ipython3",
   "version": "3.9.10"
  }
 },
 "nbformat": 4,
 "nbformat_minor": 5
}
