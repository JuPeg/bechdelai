{
 "cells": [
  {
   "cell_type": "markdown",
   "id": "053b5437-1691-4079-9c19-af83d8ee8097",
   "metadata": {},
   "source": [
    "# Get Opensubtitles data"
   ]
  },
  {
   "cell_type": "code",
   "execution_count": 1,
   "id": "21933d1c-e564-46f4-8bac-885f9ef625fe",
   "metadata": {},
   "outputs": [],
   "source": [
    "%load_ext autoreload\n",
    "%autoreload 2"
   ]
  },
  {
   "cell_type": "markdown",
   "id": "07afdef7-23b8-4c47-98a7-623755610486",
   "metadata": {},
   "source": [
    "## Imports"
   ]
  },
  {
   "cell_type": "code",
   "execution_count": 2,
   "id": "d934f9d3-12de-4582-8e7f-fd81f0b8dc91",
   "metadata": {},
   "outputs": [],
   "source": [
    "from bechdelai.data.opensubtitles import search\n",
    "from bechdelai.data.opensubtitles import get_subtitle_link\n",
    "from bechdelai.data.opensubtitles import download_subtitle_from_url\n",
    "from bechdelai.data.opensubtitles import get_subtitles_from_movie"
   ]
  },
  {
   "cell_type": "markdown",
   "id": "a1e70756-bcb2-402a-966f-3880b4eb4e61",
   "metadata": {},
   "source": [
    "## Search"
   ]
  },
  {
   "cell_type": "code",
   "execution_count": 3,
   "id": "43245604-d140-41fa-9c0e-79171b438b22",
   "metadata": {},
   "outputs": [],
   "source": [
    "movie_name = \"Avatar\"\n",
    "language_code = \"fre\""
   ]
  },
  {
   "cell_type": "code",
   "execution_count": 4,
   "id": "2e376b38-ff46-4466-8755-6dd68f192403",
   "metadata": {},
   "outputs": [],
   "source": [
    "search_url = search(movie_name, language_code)"
   ]
  },
  {
   "cell_type": "code",
   "execution_count": 5,
   "id": "a2939ff1-4f92-4501-b06d-83252739e922",
   "metadata": {},
   "outputs": [
    {
     "data": {
      "text/plain": [
       "{'Avatar (2009)': 'https://www.opensubtitles.org/en/search/sublanguageid-fre/idmovie-19984',\n",
       " '\"Avatar: The Last Airbender\" The Avatar Returns (2005)': 'https://www.opensubtitles.org/en/search/sublanguageid-fre/idmovie-24534',\n",
       " '\"Avatar: The Last Airbender\" The Warriors of Kyoshi  (2005)': 'https://www.opensubtitles.org/en/search/sublanguageid-fre/idmovie-90311',\n",
       " 'Avatar: The Last Airbender (2005)': 'https://www.opensubtitles.org/en/search/sublanguageid-fre/idmovie-20788',\n",
       " \"The King's Avatar (2017)\": 'https://www.opensubtitles.org/en/search/sublanguageid-fre/idmovie-526566',\n",
       " \"The King's Avatar (2019)\": 'https://www.opensubtitles.org/en/search/sublanguageid-fre/idmovie-773804',\n",
       " '\"Avatar: The Last Airbender\" Avatar Roku: Winter Solstice, Part 2 (2005)': 'https://www.opensubtitles.org/en/search/sublanguageid-fre/idmovie-90316',\n",
       " '\"Avatar: The Last Airbender\" Avatar Day (2006)': 'https://www.opensubtitles.org/en/search/sublanguageid-fre/idmovie-91035',\n",
       " '\"Avatar: The Last Airbender\" The Avatar State (2006)': 'https://www.opensubtitles.org/en/search/sublanguageid-fre/idmovie-91815',\n",
       " '\"Avatar: The Last Airbender\" The Avatar and the Fire Lord (2007)': 'https://www.opensubtitles.org/en/search/sublanguageid-fre/idmovie-91752',\n",
       " '\"Avatar: The Last Airbender\" Sozin\\'s Comet, Part 4: Avatar Aang (2008)': 'https://www.opensubtitles.org/en/search/sublanguageid-fre/idmovie-95000',\n",
       " '\"Avatar: The Last Airbender\" The Boy in the Iceberg (2005)': 'https://www.opensubtitles.org/en/search/sublanguageid-fre/idmovie-52134',\n",
       " '\"Avatar: The Last Airbender\" Zuko Alone (2006)': 'https://www.opensubtitles.org/en/search/sublanguageid-fre/idmovie-91033',\n",
       " '\"Avatar: The Last Airbender\" The King of Omashu (2005)': 'https://www.opensubtitles.org/en/search/sublanguageid-fre/idmovie-90315',\n",
       " '\"Avatar: The Last Airbender\" The Southern Air Temple (2005)': 'https://www.opensubtitles.org/en/search/sublanguageid-fre/idmovie-89751',\n",
       " '\"Avatar: The Last Airbender\" The Puppetmaster (2007)': 'https://www.opensubtitles.org/en/search/sublanguageid-fre/idmovie-91757',\n",
       " '\"Avatar: The Last Airbender\" The Tales of Ba Sing Se (2006)': 'https://www.opensubtitles.org/en/search/sublanguageid-fre/idmovie-93924',\n",
       " '\"Avatar: The Last Airbender\" The Blind Bandit (2006)': 'https://www.opensubtitles.org/en/search/sublanguageid-fre/idmovie-93915',\n",
       " '\"Avatar: The Last Airbender\" The Chase (2006)': 'https://www.opensubtitles.org/en/search/sublanguageid-fre/idmovie-91048',\n",
       " '\"Avatar: The Last Airbender\" The Ember Island Players (2008)': 'https://www.opensubtitles.org/en/search/sublanguageid-fre/idmovie-94974',\n",
       " '\"Avatar: The Last Airbender\" Sozin\\'s Comet (2008)': 'https://www.opensubtitles.org/en/search/sublanguageid-fre/idmovie-95091',\n",
       " '\"Avatar: The Last Airbender\" The Boiling Rock: Part 1 (2008)': 'https://www.opensubtitles.org/en/search/sublanguageid-fre/idmovie-94437',\n",
       " '\"Avatar: The Last Airbender\" The Southern Raiders (2008)': 'https://www.opensubtitles.org/en/search/sublanguageid-fre/idmovie-37721',\n",
       " '\"Avatar: The Last Airbender\" Day of the Black Sun (2007)': 'https://www.opensubtitles.org/en/search/sublanguageid-fre/idmovie-92197',\n",
       " '\"Avatar: The Last Airbender\" The Western Air Temple (2007)': 'https://www.opensubtitles.org/en/search/sublanguageid-fre/idmovie-92371',\n",
       " '\"Avatar: The Last Airbender\" The Painted Lady (2007)': 'https://www.opensubtitles.org/en/search/sublanguageid-fre/idmovie-28437',\n",
       " '\"Avatar: The Last Airbender\" The Guru (2006)': 'https://www.opensubtitles.org/en/search/sublanguageid-fre/idmovie-93976',\n",
       " '\"Avatar: The Last Airbender\" Lake Laogai (2006)': 'https://www.opensubtitles.org/en/search/sublanguageid-fre/idmovie-93973',\n",
       " '\"Avatar: The Last Airbender\" The Earth King (2006)': 'https://www.opensubtitles.org/en/search/sublanguageid-fre/idmovie-93975',\n",
       " '\"Avatar: The Last Airbender\" The Crossroads of Destiny (2006)': 'https://www.opensubtitles.org/en/search/sublanguageid-fre/idmovie-93977',\n",
       " '\"Avatar: The Last Airbender\" The Drill (2006)': 'https://www.opensubtitles.org/en/search/sublanguageid-fre/idmovie-93922',\n",
       " '\"Avatar: The Last Airbender\" City of Walls and Secrets (2006)': 'https://www.opensubtitles.org/en/search/sublanguageid-fre/idmovie-93923',\n",
       " '\"Avatar: The Last Airbender\" Appa\\'s Lost Days (2006)': 'https://www.opensubtitles.org/en/search/sublanguageid-fre/idmovie-93925',\n",
       " '\"Avatar: The Last Airbender\" Bitter Work (2006)': 'https://www.opensubtitles.org/en/search/sublanguageid-fre/idmovie-91049',\n",
       " '\"Avatar: The Last Airbender\" The Desert (2006)': 'https://www.opensubtitles.org/en/search/sublanguageid-fre/idmovie-93919',\n",
       " '\"Avatar: The Last Airbender\" The Serpent\\'s Pass (2006)': 'https://www.opensubtitles.org/en/search/sublanguageid-fre/idmovie-93920',\n",
       " '\"Avatar: The Last Airbender\" Return to Omashu (2006)': 'https://www.opensubtitles.org/en/search/sublanguageid-fre/idmovie-91047',\n",
       " '\"Avatar: The Last Airbender\" The Waterbending Master (2005)': 'https://www.opensubtitles.org/en/search/sublanguageid-fre/idmovie-93839',\n",
       " '\"Avatar: The Last Airbender\" The Northern Air Temple (2005)': 'https://www.opensubtitles.org/en/search/sublanguageid-fre/idmovie-93439'}"
      ]
     },
     "execution_count": 5,
     "metadata": {},
     "output_type": "execute_result"
    }
   ],
   "source": [
    "search_url"
   ]
  },
  {
   "cell_type": "code",
   "execution_count": 6,
   "id": "a6c78fea-bf08-4b29-876d-c8247acb194a",
   "metadata": {},
   "outputs": [],
   "source": [
    "wanted_movie = 'Avatar (2009)'"
   ]
  },
  {
   "cell_type": "code",
   "execution_count": 7,
   "id": "96eae094-7397-471e-aa21-6cad9a9fb56d",
   "metadata": {},
   "outputs": [
    {
     "data": {
      "text/plain": [
       "'https://www.opensubtitles.org/en/search/sublanguageid-fre/idmovie-19984'"
      ]
     },
     "execution_count": 7,
     "metadata": {},
     "output_type": "execute_result"
    }
   ],
   "source": [
    "search_url[wanted_movie]"
   ]
  },
  {
   "cell_type": "markdown",
   "id": "928c3f64-a67b-446b-a902-7fcb209749e8",
   "metadata": {},
   "source": [
    "## Get subtitle link"
   ]
  },
  {
   "cell_type": "code",
   "execution_count": 8,
   "id": "b6c668d5-a9e5-439c-a95b-baefb058194d",
   "metadata": {},
   "outputs": [],
   "source": [
    "subtitle_url = get_subtitle_link(search_url[wanted_movie])"
   ]
  },
  {
   "cell_type": "code",
   "execution_count": 9,
   "id": "e63d43e0-ae9f-4adc-88d1-7dbe2def6e6e",
   "metadata": {},
   "outputs": [
    {
     "data": {
      "text/plain": [
       "'https://www.opensubtitles.org/en/subtitleserve/sub/8803467'"
      ]
     },
     "execution_count": 9,
     "metadata": {},
     "output_type": "execute_result"
    }
   ],
   "source": [
    "subtitle_url"
   ]
  },
  {
   "cell_type": "markdown",
   "id": "fa5b2a18-1b25-4c50-85f5-04dd8af9cc92",
   "metadata": {},
   "source": [
    "## Download subtitle from url"
   ]
  },
  {
   "cell_type": "code",
   "execution_count": 10,
   "id": "358747ac-8fa9-46a4-a610-095ef8eabe06",
   "metadata": {},
   "outputs": [],
   "source": [
    "res = download_subtitle_from_url(subtitle_url)"
   ]
  },
  {
   "cell_type": "code",
   "execution_count": 11,
   "id": "c94353d4-1fe8-4c81-8d59-706c91357d6c",
   "metadata": {},
   "outputs": [
    {
     "name": "stdout",
     "output_type": "stream",
     "text": [
      "00:00:38,873 ==> 00:00:41,166\n",
      "Cloué au lit, à l'hôpital des Vétérans,\n",
      "\n",
      "00:00:41,376 ==> 00:00:44,378\n",
      "avec un grand trou au milieu de ma vie,\n",
      "\n",
      "00:00:45,004 ==> 00:00:47,506\n",
      "j'ai commencé à rêver que je volais.\n",
      "\n",
      "00:00:48,716 ==> 00:00:50,217\n",
      "J'étais libre.\n",
      "\n",
      "00:00:53,555 ==> 00:00:57,141\n",
      "Mais tôt ou tard... il faut se réveiller.\n",
      "\n"
     ]
    }
   ],
   "source": [
    "for srt in res[:5]:\n",
    "    print(f\"{srt.start} ==> {srt.end}\")\n",
    "    print(srt.text)\n",
    "    print()"
   ]
  },
  {
   "cell_type": "markdown",
   "id": "e583cd08-2048-4d4b-95af-36875988a91d",
   "metadata": {},
   "source": [
    "## get subtitles from movie"
   ]
  },
  {
   "cell_type": "markdown",
   "id": "5b49eee8-c6af-42b9-9aa6-295e84f6d121",
   "metadata": {},
   "source": [
    "### Without defined index"
   ]
  },
  {
   "cell_type": "code",
   "execution_count": 13,
   "id": "50f91de3-8eac-4fa5-a200-75044e874fa8",
   "metadata": {},
   "outputs": [
    {
     "name": "stdout",
     "output_type": "stream",
     "text": [
      "Suggestion num 0: 'Avatar (2009)'\n",
      "url: https://www.opensubtitles.org/en/search/sublanguageid-fre/idmovie-19984\n"
     ]
    },
    {
     "name": "stdin",
     "output_type": "stream",
     "text": [
      "Do you want to get subtitles from this movie ? y\n"
     ]
    },
    {
     "name": "stdout",
     "output_type": "stream",
     "text": [
      "\n",
      "Retrieve subtitles for 'Avatar (2009)'\n"
     ]
    }
   ],
   "source": [
    "res = get_subtitles_from_movie(movie_name, language_code, search_result_index=None)"
   ]
  },
  {
   "cell_type": "code",
   "execution_count": 14,
   "id": "fee7fa3d-9fbf-4a86-9c07-185460db3d52",
   "metadata": {},
   "outputs": [
    {
     "name": "stdout",
     "output_type": "stream",
     "text": [
      "00:00:38,873 ==> 00:00:41,166\n",
      "Cloué au lit, à l'hôpital des Vétérans,\n",
      "\n",
      "00:00:41,376 ==> 00:00:44,378\n",
      "avec un grand trou au milieu de ma vie,\n",
      "\n",
      "00:00:45,004 ==> 00:00:47,506\n",
      "j'ai commencé à rêver que je volais.\n",
      "\n",
      "00:00:48,716 ==> 00:00:50,217\n",
      "J'étais libre.\n",
      "\n",
      "00:00:53,555 ==> 00:00:57,141\n",
      "Mais tôt ou tard... il faut se réveiller.\n",
      "\n"
     ]
    }
   ],
   "source": [
    "for srt in res[:5]:\n",
    "    print(f\"{srt.start} ==> {srt.end}\")\n",
    "    print(srt.text)\n",
    "    print()"
   ]
  },
  {
   "cell_type": "markdown",
   "id": "238abac4-244f-4af1-92e6-5d33b418bf90",
   "metadata": {},
   "source": [
    "### With defined index"
   ]
  },
  {
   "cell_type": "code",
   "execution_count": 15,
   "id": "1d3a3845-0b2d-40ad-9a26-8c799cd2907d",
   "metadata": {},
   "outputs": [
    {
     "name": "stdout",
     "output_type": "stream",
     "text": [
      "Retrieve subtitles for '\"Avatar: The Last Airbender\" The Avatar State (2006)'\n"
     ]
    }
   ],
   "source": [
    "res = get_subtitles_from_movie(movie_name, language_code, search_result_index=8)"
   ]
  },
  {
   "cell_type": "code",
   "execution_count": 16,
   "id": "621d6d2b-0d51-46e2-abb6-fcb2d7602a3f",
   "metadata": {},
   "outputs": [
    {
     "name": "stdout",
     "output_type": "stream",
     "text": [
      "00:00:02,021 ==> 00:00:03,027\n",
      "<i>L'eau.</i>\n",
      "\n",
      "00:00:04,921 ==> 00:00:05,922\n",
      "<i>La terre.</i>\n",
      "\n",
      "00:00:06,548 ==> 00:00:07,549\n",
      "<i>Le feu.</i>\n",
      "\n",
      "00:00:08,933 ==> 00:00:09,934\n",
      "<i>L'air.</i>\n",
      "\n",
      "00:00:10,885 ==> 00:00:14,535\n",
      "<i>Il y a longtemps,\n",
      "les quatre nations vivaient en paix.</i>\n",
      "\n"
     ]
    }
   ],
   "source": [
    "for srt in res[:5]:\n",
    "    print(f\"{srt.start} ==> {srt.end}\")\n",
    "    print(srt.text)\n",
    "    print()"
   ]
  }
 ],
 "metadata": {
  "kernelspec": {
   "display_name": "bechdelai",
   "language": "python",
   "name": "bechdelai"
  },
  "language_info": {
   "codemirror_mode": {
    "name": "ipython",
    "version": 3
   },
   "file_extension": ".py",
   "mimetype": "text/x-python",
   "name": "python",
   "nbconvert_exporter": "python",
   "pygments_lexer": "ipython3",
   "version": "3.9.10"
  }
 },
 "nbformat": 4,
 "nbformat_minor": 5
}
