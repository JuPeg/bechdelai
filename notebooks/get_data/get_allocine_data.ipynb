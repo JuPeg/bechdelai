{
 "cells": [
  {
   "cell_type": "markdown",
   "id": "2270d26e-cb33-42f2-bfa2-d2bb475ba301",
   "metadata": {},
   "source": [
    "# Scrap allociné"
   ]
  },
  {
   "cell_type": "code",
   "execution_count": 1,
   "id": "7d295994-df0b-40af-9071-99c212872cc1",
   "metadata": {},
   "outputs": [],
   "source": [
    "%load_ext autoreload\n",
    "%autoreload 2"
   ]
  },
  {
   "cell_type": "code",
   "execution_count": 7,
   "id": "514519f0-c419-40f1-b300-68cd6e55c02d",
   "metadata": {},
   "outputs": [],
   "source": [
    "from bechdelai.data.allocine import get_movies\n",
    "from bechdelai.data.allocine import get_tmdb_ids\n",
    "from bechdelai.data.tmdb import get_movies_from_ids\n",
    "from bechdelai.data.allocine import ALLOCINE_FILTERS, VALID_SORT_BY\n",
    "\n",
    "from IPython.display import Markdown, display"
   ]
  },
  {
   "cell_type": "markdown",
   "id": "f4c60fb4-906d-4d12-8598-de55e95043e9",
   "metadata": {},
   "source": [
    "## Filters"
   ]
  },
  {
   "cell_type": "code",
   "execution_count": 3,
   "id": "e11ee8a3-86c4-4a25-9d53-4216f014dab5",
   "metadata": {},
   "outputs": [],
   "source": [
    "def print_filters(key):\n",
    "    print(\"'\" + \"', '\".join(list(ALLOCINE_FILTERS[key].keys())) + \"'\")"
   ]
  },
  {
   "cell_type": "markdown",
   "id": "413342f7-9f89-40b9-9c87-a02c27907e51",
   "metadata": {},
   "source": [
    "\n",
    "### Possible genres"
   ]
  },
  {
   "cell_type": "code",
   "execution_count": 4,
   "id": "aa607a12-ec46-4799-bf32-481e0ff007f6",
   "metadata": {},
   "outputs": [
    {
     "name": "stdout",
     "output_type": "stream",
     "text": [
      "'Action', 'Animation', 'Arts Martiaux', 'Aventure', 'Biopic', 'Bollywood', 'Classique', 'Comédie', 'Comédie dramatique', 'Comédie musicale', 'Concert', 'Dessin Animé', 'Divers', 'Drama', 'Drame', 'Epouvante-horreur', 'Erotique', 'Espionnage', 'Evenement Sportif', 'Expérimental', 'Famille', 'Fantastique', 'Guerre', 'Historique', 'Judiciaire', 'Musical', 'Médical', 'Opéra', 'Policier', 'Péplum', 'Romance', 'Science Fiction', 'Spectacle', 'Thriller', 'Western'\n"
     ]
    }
   ],
   "source": [
    "print_filters(\"genres\")"
   ]
  },
  {
   "cell_type": "markdown",
   "id": "10896162-82a7-4b09-9706-4122921b8bda",
   "metadata": {},
   "source": [
    "\n",
    "### Possible years"
   ]
  },
  {
   "cell_type": "code",
   "execution_count": 5,
   "id": "f807d645-75cb-4eb8-810d-99751c6fc324",
   "metadata": {},
   "outputs": [
    {
     "name": "stdout",
     "output_type": "stream",
     "text": [
      "'2030', '2031', '2032', '2033', '2034', '2035', '2036', '2037', '2038', '2039', '2020', '2021', '2022', '2023', '2024', '2025', '2026', '2027', '2028', '2029', '2010', '2011', '2012', '2013', '2014', '2015', '2016', '2017', '2018', '2019', '2000', '2001', '2002', '2003', '2004', '2005', '2006', '2007', '2008', '2009', '1990', '1991', '1992', '1993', '1994', '1995', '1996', '1997', '1998', '1999', '1980', '1981', '1982', '1983', '1984', '1985', '1986', '1987', '1988', '1989', '1970', '1971', '1972', '1973', '1974', '1975', '1976', '1977', '1978', '1979', '1960', '1961', '1962', '1963', '1964', '1965', '1966', '1967', '1968', '1969', '1950', '1951', '1952', '1953', '1954', '1955', '1956', '1957', '1958', '1959', '1940', '1941', '1942', '1943', '1944', '1945', '1946', '1947', '1948', '1949', '1930', '1931', '1932', '1933', '1934', '1935', '1936', '1937', '1938', '1939', '1920', '1921', '1922', '1923', '1924', '1925', '1926', '1927', '1928', '1929', '1910', '1911', '1912', '1913', '1914', '1915', '1916', '1917', '1918', '1919', '1900', '1901', '1902', '1903', '1904', '1905', '1906', '1907', '1908', '1909', '1890', '1891', '1892', '1893', '1894', '1895', '1896', '1897', '1898', '1899'\n"
     ]
    }
   ],
   "source": [
    "print_filters(\"années\")"
   ]
  },
  {
   "cell_type": "markdown",
   "id": "2fc669c9-622d-43ac-a916-85c2e9d40bef",
   "metadata": {},
   "source": [
    "### Possible countries"
   ]
  },
  {
   "cell_type": "code",
   "execution_count": 17,
   "id": "431bb57b-048f-4b1b-bfb8-3673f26c6534",
   "metadata": {},
   "outputs": [
    {
     "data": {
      "text/plain": [
       "dict_keys(['genres', 'décénnies', 'pays', 'années'])"
      ]
     },
     "execution_count": 17,
     "metadata": {},
     "output_type": "execute_result"
    }
   ],
   "source": [
    "ALLOCINE_FILTERS.keys()"
   ]
  },
  {
   "cell_type": "code",
   "execution_count": 6,
   "id": "a4b87175-63a7-4323-b882-6c5bc4f61409",
   "metadata": {},
   "outputs": [
    {
     "name": "stdout",
     "output_type": "stream",
     "text": [
      "'France', 'U.S.A.', 'Afghanistan', 'Afrique du Sud', 'Albanie', 'Algérie', 'Allemagne', 'Allemagne de l'Est', 'Allemagne de l'Ouest', 'Argentine', 'Arménie', 'Australie', 'Autriche', 'Belgique', 'Bengladesh', 'Bolivie', 'Bosnie-Herzégovine', 'Brésil', 'Bulgarie', 'Burkina Faso', 'Cambodge', 'Cameroun', 'Canada', 'Chili', 'Chine', 'Chypre', 'Colombie', 'Corée', 'Corée du Sud', 'Croatie', 'Cuba', 'Côte-d'Ivoire', 'Danemark', 'Egypte', 'Emirats Arabes Unis', 'Espagne', 'Estonie', 'Finlande', 'Grande-Bretagne', 'Grèce', 'Géorgie', 'Hong-Kong', 'Hongrie', 'Inde', 'Indonésie', 'Irak', 'Iran', 'Irlande', 'Islande', 'Israël', 'Italie', 'Japon', 'Jordanie', 'kazakhstan', 'Kenya', 'Lettonie', 'Liban', 'Lituanie', 'Luxembourg', 'Macédoine', 'Malaisie', 'Mali', 'Maroc', 'Mexique', 'Mongolie', 'Monténégro', 'Nigéria', 'Norvège', 'Nouvelle-Zélande', 'Pakistan', 'Palestine', 'Pays-Bas', 'Philippines', 'Pologne', 'Porto Rico', 'Portugal', 'Pérou', 'Qatar', 'Roumanie', 'Russie', 'République dominicaine', 'République tchèque', 'Serbie', 'Singapour', 'Slovaquie', 'Slovénie', 'Sri Lanka', 'Suisse', 'Suède', 'Syrie', 'Sénégal', 'Taïwan', 'Tchécoslovaquie', 'Thaïlande', 'Tunisie', 'Turquie', 'Ukraine', 'Uruguay', 'Vietnam', 'Vénézuela'\n"
     ]
    }
   ],
   "source": [
    "print_filters(\"pays\")"
   ]
  },
  {
   "cell_type": "markdown",
   "id": "4f96d043-8fc6-4caa-8605-1166ebafc5d4",
   "metadata": {},
   "source": [
    "### Possible sorting"
   ]
  },
  {
   "cell_type": "code",
   "execution_count": 8,
   "id": "65f3d362-d92b-41e1-8f6c-bcdac9479109",
   "metadata": {},
   "outputs": [
    {
     "name": "stdout",
     "output_type": "stream",
     "text": [
      "['popularity', 'alphabetic', 'press_note', 'public_note']\n"
     ]
    }
   ],
   "source": [
    "print(list(VALID_SORT_BY.keys()))"
   ]
  },
  {
   "cell_type": "markdown",
   "id": "43e9897f-f054-4752-97c3-35b2bc234a03",
   "metadata": {},
   "source": [
    "## Get allocine movies"
   ]
  },
  {
   "cell_type": "code",
   "execution_count": 16,
   "id": "030f6ff9-e519-44f4-ac6d-893e3241104e",
   "metadata": {},
   "outputs": [
    {
     "name": "stdout",
     "output_type": "stream",
     "text": [
      "Scrap url: https://www.allocine.fr/films/pays-5001/decennie-2010/annee-2019/?page=1\n",
      "Scrap url: https://www.allocine.fr/films/pays-5001/decennie-2010/annee-2019/?page=2\n",
      "Wall time: 1.02 s\n"
     ]
    }
   ],
   "source": [
    "%%time\n",
    "movies = get_movies(\n",
    "    n_movies=30, \n",
    "    country=\"France\", \n",
    "    year=2019, \n",
    "    sort_by=\"popularity\", \n",
    "    verbose=True\n",
    ")"
   ]
  },
  {
   "cell_type": "markdown",
   "id": "0e7e8ecf-b34d-428b-a142-cf69f95b8949",
   "metadata": {},
   "source": [
    "### Get TMDB ids"
   ]
  },
  {
   "cell_type": "code",
   "execution_count": 10,
   "id": "c3530e39-d76e-4376-8672-1e543976b79c",
   "metadata": {},
   "outputs": [
    {
     "name": "stdout",
     "output_type": "stream",
     "text": [
      "Wall time: 21.1 s\n"
     ]
    }
   ],
   "source": [
    "%%time\n",
    "movies_id = get_tmdb_ids(movies)"
   ]
  },
  {
   "cell_type": "markdown",
   "id": "6982beff-8358-418e-b8ba-819c49452327",
   "metadata": {},
   "source": [
    "## Get data from tmdb"
   ]
  },
  {
   "cell_type": "code",
   "execution_count": 11,
   "id": "01035b91-eed1-453f-8781-63ae883bbe9c",
   "metadata": {},
   "outputs": [
    {
     "name": "stdout",
     "output_type": "stream",
     "text": [
      "Wall time: 26 s\n"
     ]
    }
   ],
   "source": [
    "%%time\n",
    "movies_df, crew_df, cast_df = get_movies_from_ids(movies_id)"
   ]
  },
  {
   "cell_type": "code",
   "execution_count": 12,
   "id": "4531cebf-61f2-46eb-b7e1-d3abe0deb58b",
   "metadata": {},
   "outputs": [
    {
     "data": {
      "text/html": [
       "<div>\n",
       "<style scoped>\n",
       "    .dataframe tbody tr th:only-of-type {\n",
       "        vertical-align: middle;\n",
       "    }\n",
       "\n",
       "    .dataframe tbody tr th {\n",
       "        vertical-align: top;\n",
       "    }\n",
       "\n",
       "    .dataframe thead th {\n",
       "        text-align: right;\n",
       "    }\n",
       "</style>\n",
       "<table border=\"1\" class=\"dataframe\">\n",
       "  <thead>\n",
       "    <tr style=\"text-align: right;\">\n",
       "      <th></th>\n",
       "      <th>adult</th>\n",
       "      <th>backdrop_path</th>\n",
       "      <th>belongs_to_collection</th>\n",
       "      <th>budget</th>\n",
       "      <th>genres</th>\n",
       "      <th>homepage</th>\n",
       "      <th>id</th>\n",
       "      <th>imdb_id</th>\n",
       "      <th>original_language</th>\n",
       "      <th>original_title</th>\n",
       "      <th>...</th>\n",
       "      <th>release_date</th>\n",
       "      <th>revenue</th>\n",
       "      <th>runtime</th>\n",
       "      <th>spoken_languages</th>\n",
       "      <th>status</th>\n",
       "      <th>tagline</th>\n",
       "      <th>title</th>\n",
       "      <th>video</th>\n",
       "      <th>vote_average</th>\n",
       "      <th>vote_count</th>\n",
       "    </tr>\n",
       "  </thead>\n",
       "  <tbody>\n",
       "    <tr>\n",
       "      <th>0</th>\n",
       "      <td>False</td>\n",
       "      <td>None</td>\n",
       "      <td>None</td>\n",
       "      <td>0</td>\n",
       "      <td>[{'id': 18, 'name': 'Drama'}]</td>\n",
       "      <td></td>\n",
       "      <td>788933</td>\n",
       "      <td>tt11188010</td>\n",
       "      <td>en</td>\n",
       "      <td>L'Ombre d'un mensonge</td>\n",
       "      <td>...</td>\n",
       "      <td>2022-03-23</td>\n",
       "      <td>0</td>\n",
       "      <td>99</td>\n",
       "      <td>[{'english_name': 'English', 'iso_639_1': 'en'...</td>\n",
       "      <td>Released</td>\n",
       "      <td></td>\n",
       "      <td>Nobody Has to Know</td>\n",
       "      <td>False</td>\n",
       "      <td>6.0</td>\n",
       "      <td>3</td>\n",
       "    </tr>\n",
       "    <tr>\n",
       "      <th>1</th>\n",
       "      <td>False</td>\n",
       "      <td>/xPLM2q3aHEXlEc3MQY4EHgMkdZp.jpg</td>\n",
       "      <td>None</td>\n",
       "      <td>0</td>\n",
       "      <td>[{'id': 53, 'name': 'Thriller'}, {'id': 28, 'n...</td>\n",
       "      <td></td>\n",
       "      <td>484468</td>\n",
       "      <td>tt7458762</td>\n",
       "      <td>fr</td>\n",
       "      <td>Le Chant du loup</td>\n",
       "      <td>...</td>\n",
       "      <td>2019-02-20</td>\n",
       "      <td>12652790</td>\n",
       "      <td>115</td>\n",
       "      <td>[{'english_name': 'French', 'iso_639_1': 'fr',...</td>\n",
       "      <td>Released</td>\n",
       "      <td></td>\n",
       "      <td>The Wolf's Call</td>\n",
       "      <td>False</td>\n",
       "      <td>7.6</td>\n",
       "      <td>1514</td>\n",
       "    </tr>\n",
       "    <tr>\n",
       "      <th>2</th>\n",
       "      <td>False</td>\n",
       "      <td>/5nq95dRJCltmrA2PJniSW5mSfWh.jpg</td>\n",
       "      <td>None</td>\n",
       "      <td>0</td>\n",
       "      <td>[{'id': 35, 'name': 'Comedy'}]</td>\n",
       "      <td></td>\n",
       "      <td>589970</td>\n",
       "      <td>tt9908390</td>\n",
       "      <td>fr</td>\n",
       "      <td>Le Lion</td>\n",
       "      <td>...</td>\n",
       "      <td>2020-01-29</td>\n",
       "      <td>0</td>\n",
       "      <td>95</td>\n",
       "      <td>[{'english_name': 'French', 'iso_639_1': 'fr',...</td>\n",
       "      <td>Released</td>\n",
       "      <td></td>\n",
       "      <td>The Lion</td>\n",
       "      <td>False</td>\n",
       "      <td>5.3</td>\n",
       "      <td>143</td>\n",
       "    </tr>\n",
       "  </tbody>\n",
       "</table>\n",
       "<p>3 rows × 25 columns</p>\n",
       "</div>"
      ],
      "text/plain": [
       "   adult                     backdrop_path belongs_to_collection  budget  \\\n",
       "0  False                              None                  None       0   \n",
       "1  False  /xPLM2q3aHEXlEc3MQY4EHgMkdZp.jpg                  None       0   \n",
       "2  False  /5nq95dRJCltmrA2PJniSW5mSfWh.jpg                  None       0   \n",
       "\n",
       "                                              genres homepage      id  \\\n",
       "0                      [{'id': 18, 'name': 'Drama'}]           788933   \n",
       "1  [{'id': 53, 'name': 'Thriller'}, {'id': 28, 'n...           484468   \n",
       "2                     [{'id': 35, 'name': 'Comedy'}]           589970   \n",
       "\n",
       "      imdb_id original_language         original_title  ... release_date  \\\n",
       "0  tt11188010                en  L'Ombre d'un mensonge  ...   2022-03-23   \n",
       "1   tt7458762                fr       Le Chant du loup  ...   2019-02-20   \n",
       "2   tt9908390                fr                Le Lion  ...   2020-01-29   \n",
       "\n",
       "    revenue runtime                                   spoken_languages  \\\n",
       "0         0      99  [{'english_name': 'English', 'iso_639_1': 'en'...   \n",
       "1  12652790     115  [{'english_name': 'French', 'iso_639_1': 'fr',...   \n",
       "2         0      95  [{'english_name': 'French', 'iso_639_1': 'fr',...   \n",
       "\n",
       "     status tagline               title  video vote_average vote_count  \n",
       "0  Released          Nobody Has to Know  False          6.0          3  \n",
       "1  Released             The Wolf's Call  False          7.6       1514  \n",
       "2  Released                    The Lion  False          5.3        143  \n",
       "\n",
       "[3 rows x 25 columns]"
      ]
     },
     "execution_count": 12,
     "metadata": {},
     "output_type": "execute_result"
    }
   ],
   "source": [
    "movies_df.head(3)"
   ]
  },
  {
   "cell_type": "code",
   "execution_count": 13,
   "id": "156b3aae-ddef-4673-ae8e-4ad3ca426ede",
   "metadata": {},
   "outputs": [
    {
     "data": {
      "text/html": [
       "<div>\n",
       "<style scoped>\n",
       "    .dataframe tbody tr th:only-of-type {\n",
       "        vertical-align: middle;\n",
       "    }\n",
       "\n",
       "    .dataframe tbody tr th {\n",
       "        vertical-align: top;\n",
       "    }\n",
       "\n",
       "    .dataframe thead th {\n",
       "        text-align: right;\n",
       "    }\n",
       "</style>\n",
       "<table border=\"1\" class=\"dataframe\">\n",
       "  <thead>\n",
       "    <tr style=\"text-align: right;\">\n",
       "      <th></th>\n",
       "      <th>adult</th>\n",
       "      <th>gender</th>\n",
       "      <th>id</th>\n",
       "      <th>known_for_department</th>\n",
       "      <th>name</th>\n",
       "      <th>original_name</th>\n",
       "      <th>popularity</th>\n",
       "      <th>profile_path</th>\n",
       "      <th>credit_id</th>\n",
       "      <th>department</th>\n",
       "      <th>job</th>\n",
       "    </tr>\n",
       "  </thead>\n",
       "  <tbody>\n",
       "    <tr>\n",
       "      <th>0</th>\n",
       "      <td>False</td>\n",
       "      <td>2</td>\n",
       "      <td>788933</td>\n",
       "      <td>Acting</td>\n",
       "      <td>Bouli Lanners</td>\n",
       "      <td>Bouli Lanners</td>\n",
       "      <td>2.554</td>\n",
       "      <td>/b5RO3EEJoLWyj5np5bGQBikAP3q.jpg</td>\n",
       "      <td>600a93937d5504003ebf88b7</td>\n",
       "      <td>Directing</td>\n",
       "      <td>Director</td>\n",
       "    </tr>\n",
       "    <tr>\n",
       "      <th>1</th>\n",
       "      <td>False</td>\n",
       "      <td>2</td>\n",
       "      <td>788933</td>\n",
       "      <td>Acting</td>\n",
       "      <td>Bouli Lanners</td>\n",
       "      <td>Bouli Lanners</td>\n",
       "      <td>2.554</td>\n",
       "      <td>/b5RO3EEJoLWyj5np5bGQBikAP3q.jpg</td>\n",
       "      <td>6140a23460c7510062e0a277</td>\n",
       "      <td>Writing</td>\n",
       "      <td>Writer</td>\n",
       "    </tr>\n",
       "    <tr>\n",
       "      <th>2</th>\n",
       "      <td>False</td>\n",
       "      <td>2</td>\n",
       "      <td>788933</td>\n",
       "      <td>Production</td>\n",
       "      <td>Jacques-Henri Bronckart</td>\n",
       "      <td>Jacques-Henri Bronckart</td>\n",
       "      <td>0.600</td>\n",
       "      <td>/qCxqKIVN2OEOfq044rkKIR2F9yh.jpg</td>\n",
       "      <td>61f2ff21ac8e6b006f2cec16</td>\n",
       "      <td>Production</td>\n",
       "      <td>Producer</td>\n",
       "    </tr>\n",
       "    <tr>\n",
       "      <th>3</th>\n",
       "      <td>False</td>\n",
       "      <td>0</td>\n",
       "      <td>788933</td>\n",
       "      <td>Costume &amp; Make-Up</td>\n",
       "      <td>Elise Ancion</td>\n",
       "      <td>Elise Ancion</td>\n",
       "      <td>0.902</td>\n",
       "      <td>None</td>\n",
       "      <td>61f2ff519a3c4900c054db51</td>\n",
       "      <td>Costume &amp; Make-Up</td>\n",
       "      <td>Costume Design</td>\n",
       "    </tr>\n",
       "    <tr>\n",
       "      <th>4</th>\n",
       "      <td>False</td>\n",
       "      <td>2</td>\n",
       "      <td>788933</td>\n",
       "      <td>Directing</td>\n",
       "      <td>Tim Mielants</td>\n",
       "      <td>Tim Mielants</td>\n",
       "      <td>2.489</td>\n",
       "      <td>/xCJc9SIcRRumlSQ8AEgWVI4Snpa.jpg</td>\n",
       "      <td>61f3108b10923001217c794d</td>\n",
       "      <td>Directing</td>\n",
       "      <td>Director</td>\n",
       "    </tr>\n",
       "  </tbody>\n",
       "</table>\n",
       "</div>"
      ],
      "text/plain": [
       "   adult  gender      id known_for_department                     name  \\\n",
       "0  False       2  788933               Acting            Bouli Lanners   \n",
       "1  False       2  788933               Acting            Bouli Lanners   \n",
       "2  False       2  788933           Production  Jacques-Henri Bronckart   \n",
       "3  False       0  788933    Costume & Make-Up             Elise Ancion   \n",
       "4  False       2  788933            Directing             Tim Mielants   \n",
       "\n",
       "             original_name  popularity                      profile_path  \\\n",
       "0            Bouli Lanners       2.554  /b5RO3EEJoLWyj5np5bGQBikAP3q.jpg   \n",
       "1            Bouli Lanners       2.554  /b5RO3EEJoLWyj5np5bGQBikAP3q.jpg   \n",
       "2  Jacques-Henri Bronckart       0.600  /qCxqKIVN2OEOfq044rkKIR2F9yh.jpg   \n",
       "3             Elise Ancion       0.902                              None   \n",
       "4             Tim Mielants       2.489  /xCJc9SIcRRumlSQ8AEgWVI4Snpa.jpg   \n",
       "\n",
       "                  credit_id         department             job  \n",
       "0  600a93937d5504003ebf88b7          Directing        Director  \n",
       "1  6140a23460c7510062e0a277            Writing          Writer  \n",
       "2  61f2ff21ac8e6b006f2cec16         Production        Producer  \n",
       "3  61f2ff519a3c4900c054db51  Costume & Make-Up  Costume Design  \n",
       "4  61f3108b10923001217c794d          Directing        Director  "
      ]
     },
     "execution_count": 13,
     "metadata": {},
     "output_type": "execute_result"
    }
   ],
   "source": [
    "crew_df.head()"
   ]
  },
  {
   "cell_type": "code",
   "execution_count": 14,
   "id": "70389ceb-6d9e-4db2-8e40-21cbec08ee8e",
   "metadata": {},
   "outputs": [
    {
     "data": {
      "text/html": [
       "<div>\n",
       "<style scoped>\n",
       "    .dataframe tbody tr th:only-of-type {\n",
       "        vertical-align: middle;\n",
       "    }\n",
       "\n",
       "    .dataframe tbody tr th {\n",
       "        vertical-align: top;\n",
       "    }\n",
       "\n",
       "    .dataframe thead th {\n",
       "        text-align: right;\n",
       "    }\n",
       "</style>\n",
       "<table border=\"1\" class=\"dataframe\">\n",
       "  <thead>\n",
       "    <tr style=\"text-align: right;\">\n",
       "      <th></th>\n",
       "      <th>adult</th>\n",
       "      <th>gender</th>\n",
       "      <th>id</th>\n",
       "      <th>known_for_department</th>\n",
       "      <th>name</th>\n",
       "      <th>original_name</th>\n",
       "      <th>popularity</th>\n",
       "      <th>profile_path</th>\n",
       "      <th>cast_id</th>\n",
       "      <th>character</th>\n",
       "      <th>credit_id</th>\n",
       "      <th>order</th>\n",
       "    </tr>\n",
       "  </thead>\n",
       "  <tbody>\n",
       "    <tr>\n",
       "      <th>0</th>\n",
       "      <td>False</td>\n",
       "      <td>1</td>\n",
       "      <td>788933</td>\n",
       "      <td>Acting</td>\n",
       "      <td>Michelle Fairley</td>\n",
       "      <td>Michelle Fairley</td>\n",
       "      <td>9.028</td>\n",
       "      <td>/j8lQfEPHCKWV2QCiJJuH97CnoBX.jpg</td>\n",
       "      <td>3</td>\n",
       "      <td>Millie</td>\n",
       "      <td>600a939b23d278003d368126</td>\n",
       "      <td>1</td>\n",
       "    </tr>\n",
       "    <tr>\n",
       "      <th>1</th>\n",
       "      <td>False</td>\n",
       "      <td>2</td>\n",
       "      <td>788933</td>\n",
       "      <td>Acting</td>\n",
       "      <td>Bouli Lanners</td>\n",
       "      <td>Bouli Lanners</td>\n",
       "      <td>2.554</td>\n",
       "      <td>/b5RO3EEJoLWyj5np5bGQBikAP3q.jpg</td>\n",
       "      <td>4</td>\n",
       "      <td>Phil</td>\n",
       "      <td>600a93a2d70594003e1d19c4</td>\n",
       "      <td>2</td>\n",
       "    </tr>\n",
       "    <tr>\n",
       "      <th>2</th>\n",
       "      <td>False</td>\n",
       "      <td>2</td>\n",
       "      <td>788933</td>\n",
       "      <td>Acting</td>\n",
       "      <td>Cal Macaninch</td>\n",
       "      <td>Cal Macaninch</td>\n",
       "      <td>3.037</td>\n",
       "      <td>/1kdmHGHocP4bZvzh11FODZlieob.jpg</td>\n",
       "      <td>5</td>\n",
       "      <td>Peter</td>\n",
       "      <td>600a93a83520e80051680266</td>\n",
       "      <td>3</td>\n",
       "    </tr>\n",
       "    <tr>\n",
       "      <th>3</th>\n",
       "      <td>False</td>\n",
       "      <td>2</td>\n",
       "      <td>788933</td>\n",
       "      <td>Acting</td>\n",
       "      <td>Clovis Cornillac</td>\n",
       "      <td>Clovis Cornillac</td>\n",
       "      <td>1.709</td>\n",
       "      <td>/8wokcSilL7u4V8aKcagI7elKsgn.jpg</td>\n",
       "      <td>6</td>\n",
       "      <td>Benoit</td>\n",
       "      <td>600a93af23d278004036a138</td>\n",
       "      <td>4</td>\n",
       "    </tr>\n",
       "    <tr>\n",
       "      <th>4</th>\n",
       "      <td>False</td>\n",
       "      <td>2</td>\n",
       "      <td>788933</td>\n",
       "      <td>Acting</td>\n",
       "      <td>Julian Glover</td>\n",
       "      <td>Julian Glover</td>\n",
       "      <td>5.573</td>\n",
       "      <td>/yqFGLoY6CRy9jGp3NI328VlsaIG.jpg</td>\n",
       "      <td>7</td>\n",
       "      <td>Angus</td>\n",
       "      <td>600a93b63f8ede0041627bd1</td>\n",
       "      <td>5</td>\n",
       "    </tr>\n",
       "  </tbody>\n",
       "</table>\n",
       "</div>"
      ],
      "text/plain": [
       "   adult  gender      id known_for_department              name  \\\n",
       "0  False       1  788933               Acting  Michelle Fairley   \n",
       "1  False       2  788933               Acting     Bouli Lanners   \n",
       "2  False       2  788933               Acting     Cal Macaninch   \n",
       "3  False       2  788933               Acting  Clovis Cornillac   \n",
       "4  False       2  788933               Acting     Julian Glover   \n",
       "\n",
       "      original_name  popularity                      profile_path  cast_id  \\\n",
       "0  Michelle Fairley       9.028  /j8lQfEPHCKWV2QCiJJuH97CnoBX.jpg        3   \n",
       "1     Bouli Lanners       2.554  /b5RO3EEJoLWyj5np5bGQBikAP3q.jpg        4   \n",
       "2     Cal Macaninch       3.037  /1kdmHGHocP4bZvzh11FODZlieob.jpg        5   \n",
       "3  Clovis Cornillac       1.709  /8wokcSilL7u4V8aKcagI7elKsgn.jpg        6   \n",
       "4     Julian Glover       5.573  /yqFGLoY6CRy9jGp3NI328VlsaIG.jpg        7   \n",
       "\n",
       "  character                 credit_id  order  \n",
       "0    Millie  600a939b23d278003d368126      1  \n",
       "1      Phil  600a93a2d70594003e1d19c4      2  \n",
       "2     Peter  600a93a83520e80051680266      3  \n",
       "3    Benoit  600a93af23d278004036a138      4  \n",
       "4     Angus  600a93b63f8ede0041627bd1      5  "
      ]
     },
     "execution_count": 14,
     "metadata": {},
     "output_type": "execute_result"
    }
   ],
   "source": [
    "cast_df.head()"
   ]
  },
  {
   "cell_type": "code",
   "execution_count": null,
   "id": "81b33be6-9d86-4b8c-b998-6471858d162b",
   "metadata": {},
   "outputs": [],
   "source": []
  }
 ],
 "metadata": {
  "kernelspec": {
   "display_name": "bechdelai",
   "language": "python",
   "name": "bechdelai"
  },
  "language_info": {
   "codemirror_mode": {
    "name": "ipython",
    "version": 3
   },
   "file_extension": ".py",
   "mimetype": "text/x-python",
   "name": "python",
   "nbconvert_exporter": "python",
   "pygments_lexer": "ipython3",
   "version": "3.9.10"
  }
 },
 "nbformat": 4,
 "nbformat_minor": 5
}
