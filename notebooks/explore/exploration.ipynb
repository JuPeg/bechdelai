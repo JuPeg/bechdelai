{
 "cells": [
  {
   "cell_type": "markdown",
   "id": "9df0a10d-5272-422e-995d-a901f2783f0d",
   "metadata": {},
   "source": [
    "# Explore"
   ]
  },
  {
   "cell_type": "code",
   "execution_count": 1,
   "id": "399d0ec0-70d9-45ce-a6fb-88c73f3bf737",
   "metadata": {},
   "outputs": [],
   "source": [
    "%load_ext autoreload\n",
    "%autoreload 2"
   ]
  },
  {
   "cell_type": "code",
   "execution_count": 2,
   "id": "d12480ab-9dbb-4979-933f-2487483ecbec",
   "metadata": {},
   "outputs": [
    {
     "name": "stdout",
     "output_type": "stream",
     "text": [
      "Wall time: 547 ms\n"
     ]
    }
   ],
   "source": [
    "%%time\n",
    "from bechdelai.scrap.imdb import (\n",
    "    find_movie_from_kerword,\n",
    "    show_movie_suggestions_get_id,\n",
    "    get_movie_data\n",
    ")\n",
    "from IPython.display import display, HTML, Markdown"
   ]
  },
  {
   "cell_type": "code",
   "execution_count": 4,
   "id": "4cac3b25-9e84-4145-b127-b3e23a222743",
   "metadata": {},
   "outputs": [
    {
     "name": "stdout",
     "output_type": "stream",
     "text": [
      "Wall time: 2min 7s\n"
     ]
    }
   ],
   "source": [
    "%%time\n",
    "import pandas as pd\n",
    "# load big df in scrap file (~2min)\n",
    "\n",
    "name_df = pd.read_csv(\n",
    "    \"../../data/imdb/name.basics.tsv.gz\",\n",
    "    sep=\"\\t\",\n",
    "    low_memory=False,\n",
    "    usecols=[\"nconst\", \"primaryName\", \"birthYear\", \"deathYear\", \"primaryProfession\"],\n",
    ")\n",
    "basics_df = pd.read_csv(\n",
    "    \"../../data/imdb/title.basics.tsv.gz\",\n",
    "    sep=\"\\t\",\n",
    "    low_memory=False,\n",
    "    usecols=[\"tconst\", \"primaryTitle\", \"startYear\", \"runtimeMinutes\"],\n",
    ")\n",
    "principals_df = pd.read_csv(\n",
    "    \"../../data/imdb/title.principals.tsv.gz\",\n",
    "    sep=\"\\t\",\n",
    "    low_memory=False,\n",
    "    usecols=[\"tconst\", \"ordering\", \"nconst\", \"category\", \"characters\"],\n",
    ")\n",
    "\n",
    "# crew_df = pd.read_csv(\"../../data/imdb/title.crew.tsv.gz\", sep=\"\\t\")\n",
    "# akas_df = pd.read_csv(\"../../data/imdb/title.akas.tsv.gz\", sep=\"\\t\")\n",
    "# ratings_df = pd.read_csv(\"../../data/imdb/title.ratings.tsv.gz\", sep=\"\\t\")"
   ]
  },
  {
   "cell_type": "code",
   "execution_count": 10,
   "id": "00f27a78-2c92-4fec-86f3-899663c7a071",
   "metadata": {},
   "outputs": [
    {
     "name": "stdout",
     "output_type": "stream",
     "text": [
      "Wall time: 1.49 s\n"
     ]
    }
   ],
   "source": [
    "%%time\n",
    "ans = find_movie_from_kerword(q=\"uncharted\")"
   ]
  },
  {
   "cell_type": "code",
   "execution_count": 14,
   "id": "6417417e-e225-480f-969f-c750f5e431ae",
   "metadata": {},
   "outputs": [
    {
     "data": {
      "text/html": [
       "0 <tr class=\"findResult odd\"> <td class=\"primary_photo\"> <a href=\"/title/tt1464335/?ref_=fn_tt_tt_1\"><img src=\"https://m.media-amazon.com/images/M/MV5BMWEwNjhkYzYtNjgzYy00YTY2LThjYWYtYzViMGJkZTI4Y2MyXkEyXkFqcGdeQXVyNTM0OTY1OQ@@._V1_UX32_CR0,0,32,44_AL_.jpg\"/></a> </td> <td class=\"result_text\"> <a href=\"/title/tt1464335/?ref_=fn_tt_tt_1\">Uncharted</a> (2022) </td> </tr>"
      ],
      "text/plain": [
       "<IPython.core.display.HTML object>"
      ]
     },
     "metadata": {},
     "output_type": "display_data"
    },
    {
     "data": {
      "text/html": [
       "1 <tr class=\"findResult even\"> <td class=\"primary_photo\"> <a href=\"/title/tt1057576/?ref_=fn_tt_tt_2\"><img src=\"https://m.media-amazon.com/images/M/MV5BMTU2NDA0NDc0NF5BMl5BanBnXkFtZTcwMzk4MjA4Mg@@._V1_UX32_CR0,0,32,44_AL_.jpg\"/></a> </td> <td class=\"result_text\"> <a href=\"/title/tt1057576/?ref_=fn_tt_tt_2\">Uncharted</a> (2009) </td> </tr>"
      ],
      "text/plain": [
       "<IPython.core.display.HTML object>"
      ]
     },
     "metadata": {},
     "output_type": "display_data"
    },
    {
     "data": {
      "text/html": [
       "2 <tr class=\"findResult odd\"> <td class=\"primary_photo\"> <a href=\"/title/tt8707436/?ref_=fn_tt_tt_3\"><img src=\"https://m.media-amazon.com/images/M/MV5BYjQyYzBjMTktMzZiNi00NjMyLTgyMDUtMjJhNzgwNjc1N2Q1XkEyXkFqcGdeQXVyNDQ1ODU5NTU@._V1_UY44_CR9,0,32,44_AL_.jpg\"/></a> </td> <td class=\"result_text\"> <a href=\"/title/tt8707436/?ref_=fn_tt_tt_3\">Uncharted: Live Action Fan Film</a> (2018) (Video) </td> </tr>"
      ],
      "text/plain": [
       "<IPython.core.display.HTML object>"
      ]
     },
     "metadata": {},
     "output_type": "display_data"
    },
    {
     "data": {
      "text/html": [
       "3 <tr class=\"findResult even\"> <td class=\"primary_photo\"> <a href=\"/title/tt3334704/?ref_=fn_tt_tt_4\"><img src=\"https://m.media-amazon.com/images/M/MV5BMTYzYzIxMjktMDM4NS00MTM5LWJlMDgtNDRhMDNhOGRmY2EwXkEyXkFqcGdeQXVyMTk2OTAzNTI@._V1_UX32_CR0,0,32,44_AL_.jpg\"/></a> </td> <td class=\"result_text\"> <a href=\"/title/tt3334704/?ref_=fn_tt_tt_4\">Uncharted 4: A Thief's End</a> (2016) (Video Game) </td> </tr>"
      ],
      "text/plain": [
       "<IPython.core.display.HTML object>"
      ]
     },
     "metadata": {},
     "output_type": "display_data"
    },
    {
     "data": {
      "text/html": [
       "4 <tr class=\"findResult odd\"> <td class=\"primary_photo\"> <a href=\"/title/tt1000777/?ref_=fn_tt_tt_5\"><img src=\"https://m.media-amazon.com/images/M/MV5BODRiYjk0OWEtMzNlMS00YjU3LTlhOGYtZjRjYTA0ZDhlNjg1XkEyXkFqcGdeQXVyMTA0MTM5NjI2._V1_UX32_CR0,0,32,44_AL_.jpg\"/></a> </td> <td class=\"result_text\"> <a href=\"/title/tt1000777/?ref_=fn_tt_tt_5\">Uncharted: Drake's Fortune</a> (2007) (Video Game) </td> </tr>"
      ],
      "text/plain": [
       "<IPython.core.display.HTML object>"
      ]
     },
     "metadata": {},
     "output_type": "display_data"
    },
    {
     "data": {
      "text/html": [
       "5 <tr class=\"findResult even\"> <td class=\"primary_photo\"> <a href=\"/title/tt1349460/?ref_=fn_tt_tt_6\"><img src=\"https://m.media-amazon.com/images/M/MV5BM2Y3OTljMWQtNTU4NC00NjFlLWI2ZTgtOTU3MjBkZDM0YWZhXkEyXkFqcGdeQXVyMTA0MTM5NjI2._V1_UX32_CR0,0,32,44_AL_.jpg\"/></a> </td> <td class=\"result_text\"> <a href=\"/title/tt1349460/?ref_=fn_tt_tt_6\">Uncharted 2: Among Thieves</a> (2009) (Video Game) </td> </tr>"
      ],
      "text/plain": [
       "<IPython.core.display.HTML object>"
      ]
     },
     "metadata": {},
     "output_type": "display_data"
    },
    {
     "data": {
      "text/html": [
       "6 <tr class=\"findResult odd\"> <td class=\"primary_photo\"> <a href=\"/title/tt1800763/?ref_=fn_tt_tt_7\"><img src=\"https://m.media-amazon.com/images/M/MV5BMTA1ODk5OGEtNTc4ZC00MDE5LWEyZGQtNGRiZDExYWYyNzE4XkEyXkFqcGdeQXVyNDQ2MTMzODA@._V1_UX32_CR0,0,32,44_AL_.jpg\"/></a> </td> <td class=\"result_text\"> <a href=\"/title/tt1800763/?ref_=fn_tt_tt_7\">Uncharted 3: Drake's Deception</a> (2011) (Video Game) </td> </tr>"
      ],
      "text/plain": [
       "<IPython.core.display.HTML object>"
      ]
     },
     "metadata": {},
     "output_type": "display_data"
    },
    {
     "data": {
      "text/html": [
       "7 <tr class=\"findResult even\"> <td class=\"primary_photo\"> <a href=\"/title/tt6304452/?ref_=fn_tt_tt_8\"><img src=\"https://m.media-amazon.com/images/M/MV5BNjRmN2EzYTEtYzNlYy00ZDc4LWJlZDgtMDQzYjM0Njg5NmYyXkEyXkFqcGdeQXVyMTk2OTAzNTI@._V1_UX32_CR0,0,32,44_AL_.jpg\"/></a> </td> <td class=\"result_text\"> <a href=\"/title/tt6304452/?ref_=fn_tt_tt_8\">Uncharted: The Lost Legacy</a> (2017) (Video Game) </td> </tr>"
      ],
      "text/plain": [
       "<IPython.core.display.HTML object>"
      ]
     },
     "metadata": {},
     "output_type": "display_data"
    },
    {
     "data": {
      "text/html": [
       "8 <tr class=\"findResult odd\"> <td class=\"primary_photo\"> <a href=\"/title/tt5176566/?ref_=fn_tt_tt_9\"><img src=\"https://m.media-amazon.com/images/M/MV5BZjliNTNiNDAtMjBmNC00MzNiLWFlZWMtODE4ODM1ODdiZjNlXkEyXkFqcGdeQXVyMzYxOTE5Mzk@._V1_UY44_CR17,0,32,44_AL_.jpg\"/></a> </td> <td class=\"result_text\"> <a href=\"/title/tt5176566/?ref_=fn_tt_tt_9\">UnChartered</a> (2015) (TV Series) </td> </tr>"
      ],
      "text/plain": [
       "<IPython.core.display.HTML object>"
      ]
     },
     "metadata": {},
     "output_type": "display_data"
    },
    {
     "data": {
      "text/html": [
       "9 <tr class=\"findResult even\"> <td class=\"primary_photo\"> <a href=\"/title/tt6836980/?ref_=fn_tt_tt_10\"><img src=\"https://m.media-amazon.com/images/M/MV5BOGJmNTdiMzItMjNlMS00MWMzLWEwMDYtNWFkNTZiMjNmNmMxXkEyXkFqcGdeQXVyNzAyMzU5OTQ@._V1_UY44_CR1,0,32,44_AL_.jpg\"/></a> </td> <td class=\"result_text\"> <a href=\"/title/tt6836980/?ref_=fn_tt_tt_10\">Uncharted</a> (TV Series) </td> </tr>"
      ],
      "text/plain": [
       "<IPython.core.display.HTML object>"
      ]
     },
     "metadata": {},
     "output_type": "display_data"
    },
    {
     "name": "stdout",
     "output_type": "stream",
     "text": [
      "\n"
     ]
    },
    {
     "name": "stdin",
     "output_type": "stream",
     "text": [
      "Select wanted index: 1\n"
     ]
    },
    {
     "name": "stdout",
     "output_type": "stream",
     "text": [
      "ID of the movie: tt1057576\n",
      "URL of the casting: https://www.imdb.com/title/tt1057576/fullcredits\n"
     ]
    }
   ],
   "source": [
    "movie_id, movie_cast_url = show_movie_suggestions_get_id(ans, top=10, verbose=True)"
   ]
  },
  {
   "cell_type": "code",
   "execution_count": 18,
   "id": "694d9395-5258-422c-8862-e4979e6ee59d",
   "metadata": {},
   "outputs": [
    {
     "name": "stdout",
     "output_type": "stream",
     "text": [
      "Wall time: 16.3 s\n"
     ]
    }
   ],
   "source": [
    "%%time\n",
    "movie_data = get_movie_data(movie_id, movie_cast_url, name_df, basics_df, principals_df)"
   ]
  },
  {
   "cell_type": "code",
   "execution_count": 19,
   "id": "fefd3e90-f740-49bc-9118-82a0d846af6f",
   "metadata": {},
   "outputs": [
    {
     "data": {
      "text/plain": [
       "dict_keys(['tconst', 'primaryTitle', 'startYear', 'runtimeMinutes', 'director', 'producer', 'cast'])"
      ]
     },
     "execution_count": 19,
     "metadata": {},
     "output_type": "execute_result"
    }
   ],
   "source": [
    "movie_data.keys()"
   ]
  },
  {
   "cell_type": "code",
   "execution_count": 20,
   "id": "fe21410c-0614-45e9-8712-6250821018d0",
   "metadata": {},
   "outputs": [
    {
     "data": {
      "text/plain": [
       "{'tconst': 'tt1057576',\n",
       " 'primaryTitle': 'Uncharted',\n",
       " 'startYear': '2009',\n",
       " 'runtimeMinutes': '90',\n",
       " 'director': [{'nconst': 'nm1459683',\n",
       "   'primaryName': 'Frank Nunez',\n",
       "   'birthYear': '1974',\n",
       "   'deathYear': '\\\\N',\n",
       "   'primaryProfession': 'director,actor,producer'}],\n",
       " 'producer': [{'nconst': 'nm1704137',\n",
       "   'primaryName': 'Jon Quon',\n",
       "   'birthYear': '\\\\N',\n",
       "   'deathYear': '\\\\N',\n",
       "   'primaryProfession': 'visual_effects,producer,production_manager'}],\n",
       " 'cast': [{'nconst': 'nm0622860',\n",
       "   'character': 'Greg Cruz',\n",
       "   'primaryName': 'Demetrius Navarro',\n",
       "   'birthYear': '\\\\N',\n",
       "   'deathYear': '\\\\N',\n",
       "   'primaryProfession': 'actor,producer,director'},\n",
       "  {'nconst': 'nm1040948',\n",
       "   'character': 'Laine Wells',\n",
       "   'primaryName': 'Shana Montanez',\n",
       "   'birthYear': '\\\\N',\n",
       "   'deathYear': '\\\\N',\n",
       "   'primaryProfession': 'actress,composer'},\n",
       "  {'nconst': 'nm3585188',\n",
       "   'character': 'John Andrew, the pilot',\n",
       "   'primaryName': 'Carlos Meza',\n",
       "   'birthYear': '\\\\N',\n",
       "   'deathYear': '\\\\N',\n",
       "   'primaryProfession': 'actor'},\n",
       "  {'nconst': 'nm0384798',\n",
       "   'character': 'Michael',\n",
       "   'primaryName': 'John Hillard',\n",
       "   'birthYear': '1965',\n",
       "   'deathYear': '\\\\N',\n",
       "   'primaryProfession': 'actor,writer,producer'},\n",
       "  {'nconst': 'nm1676341',\n",
       "   'character': 'Christy',\n",
       "   'primaryName': 'Erin Howie',\n",
       "   'birthYear': '1978',\n",
       "   'deathYear': '\\\\N',\n",
       "   'primaryProfession': 'actress,miscellaneous,editorial_department'},\n",
       "  {'nconst': 'nm2142126',\n",
       "   'character': 'Javier',\n",
       "   'primaryName': 'Frederick Sainz',\n",
       "   'birthYear': '\\\\N',\n",
       "   'deathYear': '\\\\N',\n",
       "   'primaryProfession': 'actor'},\n",
       "  {'nconst': 'nm1459683',\n",
       "   'character': 'Boat passenger',\n",
       "   'primaryName': 'Frank Nunez',\n",
       "   'birthYear': '1974',\n",
       "   'deathYear': '\\\\N',\n",
       "   'primaryProfession': 'director,actor,producer'},\n",
       "  {'nconst': 'nm1371634',\n",
       "   'character': 'Female boat passenger #1',\n",
       "   'primaryName': 'Erlinda Navarro',\n",
       "   'birthYear': '1973',\n",
       "   'deathYear': '\\\\N',\n",
       "   'primaryProfession': 'actress,producer,miscellaneous'},\n",
       "  {'nconst': 'nm2726757',\n",
       "   'character': 'Female boat passenger #2',\n",
       "   'primaryName': 'Elizabeth Cantore',\n",
       "   'birthYear': '\\\\N',\n",
       "   'deathYear': '\\\\N',\n",
       "   'primaryProfession': 'make_up_department,actress'},\n",
       "  {'nconst': 'nm2094531',\n",
       "   'character': 'Kevin, the boat captain',\n",
       "   'primaryName': 'Michael K. Lansing',\n",
       "   'birthYear': '\\\\N',\n",
       "   'deathYear': '\\\\N',\n",
       "   'primaryProfession': 'producer,actor'},\n",
       "  {'nconst': 'nm5348480',\n",
       "   'character': 'Cannibal #1',\n",
       "   'primaryName': 'Miguel Saldana',\n",
       "   'birthYear': '\\\\N',\n",
       "   'deathYear': '\\\\N',\n",
       "   'primaryProfession': 'actor'},\n",
       "  {'nconst': 'nm5348773',\n",
       "   'character': 'Cannibal #2',\n",
       "   'primaryName': 'David Castillo',\n",
       "   'birthYear': '\\\\N',\n",
       "   'deathYear': '\\\\N',\n",
       "   'primaryProfession': 'actor'},\n",
       "  {'nconst': 'nm5348072',\n",
       "   'character': 'Cannibal #3',\n",
       "   'primaryName': 'Sergio Berry',\n",
       "   'birthYear': '\\\\N',\n",
       "   'deathYear': '\\\\N',\n",
       "   'primaryProfession': 'actor'},\n",
       "  {'nconst': 'nm2162795',\n",
       "   'character': 'Rescue radio voice',\n",
       "   'primaryName': 'Jake Buchheit',\n",
       "   'birthYear': '1982',\n",
       "   'deathYear': '\\\\N',\n",
       "   'primaryProfession': 'editorial_department,miscellaneous,editor'}]}"
      ]
     },
     "execution_count": 20,
     "metadata": {},
     "output_type": "execute_result"
    }
   ],
   "source": [
    "movie_data"
   ]
  },
  {
   "cell_type": "code",
   "execution_count": null,
   "id": "61be1ac2-af72-4188-977d-493b7ba4a0a2",
   "metadata": {},
   "outputs": [],
   "source": []
  }
 ],
 "metadata": {
  "kernelspec": {
   "display_name": "bechdelai",
   "language": "python",
   "name": "bechdelai"
  },
  "language_info": {
   "codemirror_mode": {
    "name": "ipython",
    "version": 3
   },
   "file_extension": ".py",
   "mimetype": "text/x-python",
   "name": "python",
   "nbconvert_exporter": "python",
   "pygments_lexer": "ipython3",
   "version": "3.9.10"
  }
 },
 "nbformat": 4,
 "nbformat_minor": 5
}
